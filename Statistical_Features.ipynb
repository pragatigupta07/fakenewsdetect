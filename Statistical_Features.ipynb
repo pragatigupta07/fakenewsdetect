{
 "cells": [
  {
   "cell_type": "code",
   "execution_count": 1,
   "metadata": {
    "colab": {
     "base_uri": "https://localhost:8080/"
    },
    "executionInfo": {
     "elapsed": 21099,
     "status": "ok",
     "timestamp": 1664997987536,
     "user": {
      "displayName": "Ameeya Ranjan Sethy",
      "userId": "04431840898529664700"
     },
     "user_tz": -330
    },
    "id": "zdPk4RXX0sXQ",
    "outputId": "7c08e6e0-fd7b-4767-d7ce-701c41cf55d8"
   },
   "outputs": [
    {
     "name": "stdout",
     "output_type": "stream",
     "text": [
      "Mounted at /content/gdrive\n"
     ]
    }
   ],
   "source": [
    "from google.colab import drive\n",
    "drive.mount('/content/gdrive')"
   ]
  },
  {
   "cell_type": "code",
   "execution_count": 13,
   "metadata": {
    "colab": {
     "base_uri": "https://localhost:8080/"
    },
    "executionInfo": {
     "elapsed": 2,
     "status": "ok",
     "timestamp": 1664998559361,
     "user": {
      "displayName": "Ameeya Ranjan Sethy",
      "userId": "04431840898529664700"
     },
     "user_tz": -330
    },
    "id": "wElsBCuU1Fsl",
    "outputId": "b8750351-9882-42f4-acb6-b6ba68accc01"
   },
   "outputs": [
    {
     "name": "stderr",
     "output_type": "stream",
     "text": [
      "[nltk_data] Downloading package punkt to /root/nltk_data...\n",
      "[nltk_data]   Package punkt is already up-to-date!\n",
      "[nltk_data] Downloading package wordnet to /root/nltk_data...\n",
      "[nltk_data]   Package wordnet is already up-to-date!\n",
      "[nltk_data] Downloading package omw-1.4 to /root/nltk_data...\n",
      "[nltk_data] Downloading package stopwords to /root/nltk_data...\n",
      "[nltk_data]   Package stopwords is already up-to-date!\n"
     ]
    }
   ],
   "source": [
    "import pandas as pd\n",
    "import numpy as np\n",
    "import nltk\n",
    "nltk.download('punkt')\n",
    "nltk.download('wordnet')\n",
    "nltk.download('omw-1.4')\n",
    "from nltk.corpus import stopwords\n",
    "nltk.download('stopwords')\n",
    "import re\n",
    "from sklearn import feature_extraction\n",
    "from sklearn.feature_extraction.text import TfidfVectorizer\n",
    "from tqdm import tqdm"
   ]
  },
  {
   "cell_type": "code",
   "execution_count": 23,
   "metadata": {
    "executionInfo": {
     "elapsed": 1,
     "status": "ok",
     "timestamp": 1664998759196,
     "user": {
      "displayName": "Ameeya Ranjan Sethy",
      "userId": "04431840898529664700"
     },
     "user_tz": -330
    },
    "id": "WtSitsIJn_mG"
   },
   "outputs": [],
   "source": [
    "\n",
    "_wnl = nltk.WordNetLemmatizer()\n",
    "\n",
    "\n",
    "def normalize_word(w):\n",
    "    return _wnl.lemmatize(w).lower()\n",
    "\n",
    "\n",
    "def get_tokenized_lemmas(s):\n",
    "    return [normalize_word(t) for t in nltk.word_tokenize(s)]\n",
    "\n",
    "\n",
    "def clean(s):\n",
    "    # Cleans a string: Lowercasing, trimming, removing non-alphanumeric\n",
    "\n",
    "    return \" \".join(re.findall(r'\\w+', s, flags=re.UNICODE)).lower()\n",
    "\n",
    "\n",
    "def remove_stopwords(l):\n",
    "    # Removes stopwords from a list of tokens\n",
    "    return [w for w in l if w not in feature_extraction.text.ENGLISH_STOP_WORDS]\n",
    "\n",
    "def preprocess(headlines,bodies):\n",
    "  n_headlines, n_bodies =[],[]\n",
    "  for i, (headline, body) in tqdm(enumerate(zip(headlines, bodies))):\n",
    "    clean_headline = clean(headline)\n",
    "    clean_body = clean(body)\n",
    "    clean_headline = get_tokenized_lemmas(clean_headline)\n",
    "    clean_body = get_tokenized_lemmas(clean_body)\n",
    "    clean_headline = remove_stopwords(clean_headline)\n",
    "    clean_body = remove_stopwords(clean_body)\n",
    "    n_headlines.append(headline)\n",
    "    n_bodies.append(body)\n",
    "  n_headlines_df=pd.DataFrame(n_headlines,columns=['Headline'])\n",
    "  n_bodies_df=pd.DataFrame(n_bodies,columns=['Body'])\n",
    "  return n_headlines_df['Headline'], n_bodies_df['Body']\n"
   ]
  },
  {
   "cell_type": "code",
   "execution_count": 24,
   "metadata": {
    "executionInfo": {
     "elapsed": 2,
     "status": "ok",
     "timestamp": 1664998761166,
     "user": {
      "displayName": "Ameeya Ranjan Sethy",
      "userId": "04431840898529664700"
     },
     "user_tz": -330
    },
    "id": "7IDI5ocz1Llx"
   },
   "outputs": [],
   "source": [
    "def statistical_features(dataset_loc):\n",
    "  dataset = pd.read_csv(dataset_loc)\n",
    "  stop_words_l=stopwords.words('english')\n",
    "  headlines = dataset['Headline']\n",
    "  bodies = dataset['Body']\n",
    "  print(type(headlines))\n",
    "  headlines,bodies = preprocess(headlines,bodies)\n",
    "  print(type(headlines))\n",
    "  headline_vectorizer = TfidfVectorizer()\n",
    "  h = headline_vectorizer.fit_transform(headlines)\n",
    "  body_vectorizer = TfidfVectorizer(max_features=10000-h.shape[1])\n",
    "  b = body_vectorizer.fit_transform(bodies)\n",
    "  statistical_features = np.concatenate((np.array(h.toarray()),np.array(b.toarray())),axis = 1)\n",
    "  return statistical_features"
   ]
  },
  {
   "cell_type": "code",
   "execution_count": 25,
   "metadata": {
    "colab": {
     "base_uri": "https://localhost:8080/"
    },
    "executionInfo": {
     "elapsed": 191147,
     "status": "ok",
     "timestamp": 1664998954747,
     "user": {
      "displayName": "Ameeya Ranjan Sethy",
      "userId": "04431840898529664700"
     },
     "user_tz": -330
    },
    "id": "j2bLM-9a2eSC",
    "outputId": "57d96502-ca71-49ff-b8e5-c18cf959ce08"
   },
   "outputs": [
    {
     "name": "stdout",
     "output_type": "stream",
     "text": [
      "<class 'pandas.core.series.Series'>\n"
     ]
    },
    {
     "name": "stderr",
     "output_type": "stream",
     "text": [
      "49972it [02:46, 299.29it/s]\n"
     ]
    },
    {
     "name": "stdout",
     "output_type": "stream",
     "text": [
      "<class 'pandas.core.series.Series'>\n"
     ]
    }
   ],
   "source": [
    "statistical_features_train = statistical_features('gdrive/MyDrive/CS626/Project/Data/train_Set.csv')"
   ]
  },
  {
   "cell_type": "code",
   "execution_count": 26,
   "metadata": {
    "colab": {
     "base_uri": "https://localhost:8080/"
    },
    "executionInfo": {
     "elapsed": 410,
     "status": "ok",
     "timestamp": 1664998959878,
     "user": {
      "displayName": "Ameeya Ranjan Sethy",
      "userId": "04431840898529664700"
     },
     "user_tz": -330
    },
    "id": "77NL6hh72x2j",
    "outputId": "8a904ab2-9481-4545-d61d-0d8b1a29d8ca"
   },
   "outputs": [
    {
     "data": {
      "text/plain": [
       "314"
      ]
     },
     "execution_count": 26,
     "metadata": {},
     "output_type": "execute_result"
    }
   ],
   "source": [
    "np.count_nonzero(statistical_features_train[500])"
   ]
  },
  {
   "cell_type": "code",
   "execution_count": 27,
   "metadata": {
    "colab": {
     "base_uri": "https://localhost:8080/"
    },
    "executionInfo": {
     "elapsed": 93285,
     "status": "ok",
     "timestamp": 1664999061676,
     "user": {
      "displayName": "Ameeya Ranjan Sethy",
      "userId": "04431840898529664700"
     },
     "user_tz": -330
    },
    "id": "FlEXX9LS2108",
    "outputId": "10af223b-a1ef-4227-e8a3-f858fa4ffee0"
   },
   "outputs": [
    {
     "name": "stdout",
     "output_type": "stream",
     "text": [
      "<class 'pandas.core.series.Series'>\n"
     ]
    },
    {
     "name": "stderr",
     "output_type": "stream",
     "text": [
      "25413it [01:21, 312.24it/s]\n"
     ]
    },
    {
     "name": "stdout",
     "output_type": "stream",
     "text": [
      "<class 'pandas.core.series.Series'>\n"
     ]
    }
   ],
   "source": [
    "statistical_features_test = statistical_features('gdrive/MyDrive/CS626/Project/Data/test_Set.csv')"
   ]
  },
  {
   "cell_type": "code",
   "execution_count": null,
   "metadata": {
    "colab": {
     "base_uri": "https://localhost:8080/"
    },
    "executionInfo": {
     "elapsed": 544,
     "status": "ok",
     "timestamp": 1664885779963,
     "user": {
      "displayName": "Ameeya Ranjan Sethy",
      "userId": "04431840898529664700"
     },
     "user_tz": -330
    },
    "id": "AKeJHDwo26hc",
    "outputId": "e272f3d6-5c02-43eb-beed-b8324bfa1a77"
   },
   "outputs": [
    {
     "data": {
      "text/plain": [
       "(25413, 10000)"
      ]
     },
     "execution_count": 6,
     "metadata": {},
     "output_type": "execute_result"
    }
   ],
   "source": [
    "statistical_features_test.shape"
   ]
  },
  {
   "cell_type": "code",
   "execution_count": 29,
   "metadata": {
    "executionInfo": {
     "elapsed": 8163,
     "status": "ok",
     "timestamp": 1664999069828,
     "user": {
      "displayName": "Ameeya Ranjan Sethy",
      "userId": "04431840898529664700"
     },
     "user_tz": -330
    },
    "id": "LJDcdtni2_D7"
   },
   "outputs": [],
   "source": [
    "np.save(arr=statistical_features_test,file='gdrive/MyDrive/CS626/Project/Data/test_statistical_features.npy')"
   ]
  },
  {
   "cell_type": "code",
   "execution_count": 30,
   "metadata": {
    "executionInfo": {
     "elapsed": 16919,
     "status": "ok",
     "timestamp": 1664999086737,
     "user": {
      "displayName": "Ameeya Ranjan Sethy",
      "userId": "04431840898529664700"
     },
     "user_tz": -330
    },
    "id": "7iOIXp1M8I7O"
   },
   "outputs": [],
   "source": [
    "np.save(arr=statistical_features_train,file='gdrive/MyDrive/CS626/Project/Data/train_statistical_features.npy')"
   ]
  },
  {
   "cell_type": "code",
   "execution_count": 28,
   "metadata": {
    "colab": {
     "base_uri": "https://localhost:8080/"
    },
    "executionInfo": {
     "elapsed": 13,
     "status": "ok",
     "timestamp": 1664999061677,
     "user": {
      "displayName": "Ameeya Ranjan Sethy",
      "userId": "04431840898529664700"
     },
     "user_tz": -330
    },
    "id": "6SyMPSQs31Sn",
    "outputId": "55dbdcd0-7b30-45c9-8962-775a06036802"
   },
   "outputs": [
    {
     "data": {
      "text/plain": [
       "189"
      ]
     },
     "execution_count": 28,
     "metadata": {},
     "output_type": "execute_result"
    }
   ],
   "source": [
    "np.count_nonzero(statistical_features_test[0])"
   ]
  }
 ],
 "metadata": {
  "colab": {
   "authorship_tag": "ABX9TyNW1OrhFyIlcCHF38rBtOmG",
   "collapsed_sections": [],
   "provenance": []
  },
  "kernelspec": {
   "display_name": "Python 3.9.12 ('base')",
   "language": "python",
   "name": "python3"
  },
  "language_info": {
   "codemirror_mode": {
    "name": "ipython",
    "version": 3
   },
   "file_extension": ".py",
   "mimetype": "text/x-python",
   "name": "python",
   "nbconvert_exporter": "python",
   "pygments_lexer": "ipython3",
   "version": "3.9.12"
  },
  "vscode": {
   "interpreter": {
    "hash": "dc07d24e2f18896857f0b2a651fe84ba40ce7b297e58d8804a308c8039f752a6"
   }
  }
 },
 "nbformat": 4,
 "nbformat_minor": 1
}
